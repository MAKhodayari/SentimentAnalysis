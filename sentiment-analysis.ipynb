{
 "cells": [
  {
   "cell_type": "code",
   "execution_count": 186,
   "id": "7df4937b",
   "metadata": {},
   "outputs": [],
   "source": [
    "import numpy as np\n",
    "import pandas as pd\n",
    "import sys\n",
    "from hazm import *\n",
    "# from stopwords_guilannlp import *\n",
    "from nltk.tokenize import RegexpTokenizer\n",
    "from string import punctuation\n",
    "import re\n",
    "from collections import Counter\n",
    "import math\n",
    "# import xlrd\n",
    "import nltk\n",
    "import math\n",
    "import matplotlib.pyplot as plt"
   ]
  },
  {
   "cell_type": "code",
   "execution_count": 187,
   "id": "a67db80a",
   "metadata": {},
   "outputs": [],
   "source": [
    "normalizer = Normalizer()\n",
    "lemmatizer = Lemmatizer()\n",
    "stemmer = Stemmer()"
   ]
  },
  {
   "cell_type": "code",
   "execution_count": 188,
   "id": "843fa480",
   "metadata": {},
   "outputs": [],
   "source": [
    "def load_datatset():\n",
    "    dataset=pd.read_csv(\"ProjectData.csv\")\n",
    "    dataset=dataset[['comment','label']]\n",
    "    dataset=dataset[dataset['label'] != -2]\n",
    "    dataset=dataset.dropna()\n",
    "    return dataset"
   ]
  },
  {
   "cell_type": "code",
   "execution_count": 189,
   "id": "1c201caf",
   "metadata": {},
   "outputs": [],
   "source": [
    "def undersampl_data(dataset):\n",
    "    counts = dataset['label'].value_counts()\n",
    "    min_count = counts.min()\n",
    "    undersampled_df = pd.concat([\n",
    "        dataset[dataset['label'] == Label].sample(n=min_count)\n",
    "        for Label in counts.index\n",
    "    ])\n",
    "    return undersampled_df"
   ]
  },
  {
   "cell_type": "code",
   "execution_count": 190,
   "id": "dec5f1fe",
   "metadata": {},
   "outputs": [],
   "source": [
    "dataset=load_datatset()\n",
    "dataset['label'] += 2"
   ]
  },
  {
   "cell_type": "code",
   "execution_count": 6,
   "id": "0d36a528",
   "metadata": {},
   "outputs": [],
   "source": [
    "dataset=undersampl_data(dataset)"
   ]
  },
  {
   "cell_type": "code",
   "execution_count": 191,
   "id": "4dbde331",
   "metadata": {},
   "outputs": [],
   "source": [
    "counts = dataset ['label'].value_counts()"
   ]
  },
  {
   "cell_type": "code",
   "execution_count": 192,
   "id": "5126f94d",
   "metadata": {},
   "outputs": [
    {
     "data": {
      "text/plain": [
       "3.0    40149\n",
       "1.0    17044\n",
       "2.0     5627\n",
       "Name: label, dtype: int64"
      ]
     },
     "execution_count": 192,
     "metadata": {},
     "output_type": "execute_result"
    }
   ],
   "source": [
    "counts"
   ]
  },
  {
   "cell_type": "code",
   "execution_count": 193,
   "id": "89aaf224",
   "metadata": {
    "scrolled": true
   },
   "outputs": [
    {
     "data": {
      "text/html": [
       "<div>\n",
       "<style scoped>\n",
       "    .dataframe tbody tr th:only-of-type {\n",
       "        vertical-align: middle;\n",
       "    }\n",
       "\n",
       "    .dataframe tbody tr th {\n",
       "        vertical-align: top;\n",
       "    }\n",
       "\n",
       "    .dataframe thead th {\n",
       "        text-align: right;\n",
       "    }\n",
       "</style>\n",
       "<table border=\"1\" class=\"dataframe\">\n",
       "  <thead>\n",
       "    <tr style=\"text-align: right;\">\n",
       "      <th></th>\n",
       "      <th>comment</th>\n",
       "      <th>label</th>\n",
       "    </tr>\n",
       "  </thead>\n",
       "  <tbody>\n",
       "    <tr>\n",
       "      <th>0</th>\n",
       "      <td>گردن بند خوبو قشنگیه خوبم جلوه میکنه و خودشو ن...</td>\n",
       "      <td>3.0</td>\n",
       "    </tr>\n",
       "    <tr>\n",
       "      <th>1</th>\n",
       "      <td>به نظر من اصلا خوب نبود! به جاش با روغن زیتون ...</td>\n",
       "      <td>1.0</td>\n",
       "    </tr>\n",
       "    <tr>\n",
       "      <th>2</th>\n",
       "      <td>من خریدم مبلم رو بی ریخت کرد و زود پاره شد</td>\n",
       "      <td>1.0</td>\n",
       "    </tr>\n",
       "    <tr>\n",
       "      <th>3</th>\n",
       "      <td>حتما پیشنهاد میکنم</td>\n",
       "      <td>3.0</td>\n",
       "    </tr>\n",
       "    <tr>\n",
       "      <th>4</th>\n",
       "      <td>در کل عالی</td>\n",
       "      <td>3.0</td>\n",
       "    </tr>\n",
       "    <tr>\n",
       "      <th>...</th>\n",
       "      <td>...</td>\n",
       "      <td>...</td>\n",
       "    </tr>\n",
       "    <tr>\n",
       "      <th>62933</th>\n",
       "      <td>کواد کوپتر پرواز دادنش خیلی  لذت بخش هست به شر...</td>\n",
       "      <td>3.0</td>\n",
       "    </tr>\n",
       "    <tr>\n",
       "      <th>62934</th>\n",
       "      <td>سلاممن ازش خیلس راضی هستم شارژ 10000 واقعی خیل...</td>\n",
       "      <td>3.0</td>\n",
       "    </tr>\n",
       "    <tr>\n",
       "      <th>62935</th>\n",
       "      <td>این فیلتر رو تا بحال دو بار نصب و تعویض کردم. ...</td>\n",
       "      <td>3.0</td>\n",
       "    </tr>\n",
       "    <tr>\n",
       "      <th>62936</th>\n",
       "      <td>ضد آفتاب مناسبی برای پوست چرب با رنگ‌خوب، البت...</td>\n",
       "      <td>3.0</td>\n",
       "    </tr>\n",
       "    <tr>\n",
       "      <th>62937</th>\n",
       "      <td>امروز سفارش به دستم رسید. ۳ تا از پایه‌های میز...</td>\n",
       "      <td>1.0</td>\n",
       "    </tr>\n",
       "  </tbody>\n",
       "</table>\n",
       "<p>62820 rows × 2 columns</p>\n",
       "</div>"
      ],
      "text/plain": [
       "                                                 comment  label\n",
       "0      گردن بند خوبو قشنگیه خوبم جلوه میکنه و خودشو ن...    3.0\n",
       "1      به نظر من اصلا خوب نبود! به جاش با روغن زیتون ...    1.0\n",
       "2             من خریدم مبلم رو بی ریخت کرد و زود پاره شد    1.0\n",
       "3                                     حتما پیشنهاد میکنم    3.0\n",
       "4                                             در کل عالی    3.0\n",
       "...                                                  ...    ...\n",
       "62933  کواد کوپتر پرواز دادنش خیلی  لذت بخش هست به شر...    3.0\n",
       "62934  سلاممن ازش خیلس راضی هستم شارژ 10000 واقعی خیل...    3.0\n",
       "62935  این فیلتر رو تا بحال دو بار نصب و تعویض کردم. ...    3.0\n",
       "62936  ضد آفتاب مناسبی برای پوست چرب با رنگ‌خوب، البت...    3.0\n",
       "62937  امروز سفارش به دستم رسید. ۳ تا از پایه‌های میز...    1.0\n",
       "\n",
       "[62820 rows x 2 columns]"
      ]
     },
     "execution_count": 193,
     "metadata": {},
     "output_type": "execute_result"
    }
   ],
   "source": [
    "dataset"
   ]
  },
  {
   "cell_type": "code",
   "execution_count": 194,
   "id": "2e031d66",
   "metadata": {},
   "outputs": [],
   "source": [
    "def remove_stop_words(comments):\n",
    "    stop_words = ['و', 'در', 'به', 'از', 'که', 'این', 'را', 'با', 'است', 'برای', 'آن', 'یک', 'خود', 'تا', 'کرد', 'بر', 'هم', 'نیز', 'گفت', 'می\\u200cشود', 'وی', 'شد', 'دارد', 'ما', 'اما', 'یا', 'شده', 'باید', 'هر', 'آنها', 'بود', 'او', 'دیگر', 'دو', 'مورد', 'می\\u200cکند', 'شود', 'کند', 'وجود', 'بین', 'پیش', 'شده_است', 'پس', 'نظر', 'اگر', 'همه', 'یکی', 'حال', 'هستند', 'من', 'کنند', 'نیست', 'باشد', 'چه', 'بی', 'می', 'بخش', 'می\\u200cکنند', 'همین', 'افزود', 'هایی', 'دارند', 'راه', 'همچنین', 'روی', 'داد', 'سه', 'داشت', 'چند', 'سوی', 'تنها', 'هیچ', 'میان', 'اینکه', 'شدن', 'بعد', 'جدید', 'ولی', 'حتی', 'کردن', 'برخی', 'کردند', 'می\\u200cدهد', 'اول', 'نه', 'کرده_است', 'نسبت', 'بیش', 'شما', 'چنین', 'طور', 'افراد', 'تمام', 'درباره', 'بار', 'بسیاری', 'می\\u200cتواند', 'کرده', 'چون', 'ندارد', 'دوم', 'بزرگ', 'طی', 'حدود', 'همان', 'بدون', 'البته', 'آنان', 'می\\u200cگوید', 'دیگری', 'خواهد_شد', 'کنیم', 'قابل', 'یعنی', 'رشد', 'می\\u200cتوان', 'وارد', 'کل', 'ویژه', 'قبل', 'براساس', 'نیاز', 'گذاری', 'هنوز', 'لازم', 'سازی', 'بوده_است', 'چرا', 'می\\u200cشوند', 'وقتی', 'گرفت', 'کم', 'جای', 'حالی', 'تغییر', 'پیدا', 'اکنون', 'تحت', 'باعث', 'مدت', 'فقط', 'تعداد', 'آیا', 'بیان', 'رو', 'شدند', 'عدم', 'کرده_اند', 'بودن', 'نوع', 'بلکه', 'جاری', 'دهد', 'برابر', 'مهم', 'بوده', 'اخیر', 'مربوط', 'امر', 'زیر', 'گیری', 'شاید', 'خصوص', 'آقای', 'اثر', 'کننده', 'بودند', 'فکر', 'کنار', 'اولین', 'سوم', 'سایر', 'کنید', 'ضمن', 'مانند', 'باز', 'می\\u200cگیرد', 'ممکن', 'حل', 'دارای', 'پی', 'مثل', 'می\\u200cرسد', 'اجرا', 'دور', 'منظور', 'کسی', 'موجب', 'طول', 'امکان', 'آنچه', 'تعیین', 'گفته', 'شوند', 'جمع', 'علاوه', 'گونه', 'تاکنون', 'رسید', 'ساله', 'گرفته', 'شده_اند', 'علت', 'چهار', 'داشته_باشد', 'خواهد_بود', 'طرف', 'تهیه', 'تبدیل', 'مناسب', 'زیرا', 'مشخص', 'می\\u200cتوانند', 'نزدیک', 'جریان', 'روند', 'بنابراین', 'می\\u200cدهند', 'یافت', 'نخستین', 'بالا', 'پنج', 'ریزی', 'چیزی', 'نخست', 'بیشتری', 'ترتیب', 'شده_بود', 'خاص', 'شروع', 'فرد', 'کامل', 'غیر', 'می\\u200cرود', 'دهند', 'آخرین', 'دادن', 'جدی', 'بهترین', 'شامل', 'گیرد', 'بخشی', 'باشند', 'تمامی', 'بهتر', 'داده_است', 'حد', 'نبود', 'کسانی', 'می\\u200cکرد', 'داریم', 'علیه', 'می\\u200cباشد', 'دانست', 'ناشی', 'داشتند', 'دهه', 'می\\u200cشد', 'ایشان', 'آنجا', 'گرفته_است', 'دچار', 'می\\u200cآید', 'لحاظ', 'آنکه', 'داده', 'بعضی', 'هستیم', 'اند', 'برداری', 'نباید', 'می\\u200cکنیم', 'نشست', 'سهم', 'همیشه', 'آمد', 'اش', 'وگو', 'می\\u200cکنم', 'حداقل', 'طبق', 'جا', 'خواهد_کرد', 'نوعی', 'چگونه', 'رفت', 'هنگام', 'فوق', 'روش', 'ندارند', 'سعی', 'بندی', 'شمار', 'کلی', 'کافی', 'مواجه', 'همچنان', 'سمت', 'کوچک', 'داشته_است', 'چیز', 'پشت', 'آورد', 'حالا', 'روبه', 'سال\\u200cهای', 'دادند', 'می\\u200cکردند', 'عهده', 'نیمه', 'جایی', 'دیگران', 'سی', 'بروز', 'یکدیگر', 'آمده_است', 'جز', 'کنم', 'سپس', 'کنندگان', 'خودش', 'همواره', 'یافته', 'شان', 'صرف', 'نمی\\u200cشود', 'رسیدن', 'چهارم', 'یابد', 'متر', 'ساز', 'داشته', 'کرده_بود', 'باره', 'نحوه', 'کردم', 'تو', 'شخصی', 'داشته_باشند', 'محسوب', 'پخش', 'کمی', 'متفاوت', 'سراسر', 'کاملا', 'داشتن', 'نظیر', 'آمده', 'گروهی', 'فردی', 'ع', 'همچون', 'خطر', 'خویش', 'کدام', 'دسته', 'سبب', 'عین', 'آوری', 'متاسفانه', 'بیرون', 'دار', 'ابتدا', 'شش', 'افرادی', 'می\\u200cگویند', 'سالهای', 'درون', 'نیستند', 'یافته_است', 'پر', 'خاطرنشان', 'گاه', 'جمعی', 'اغلب', 'دوباره', 'می\\u200cیابد', 'لذا', 'زاده', 'گردد', 'اینجا']\n",
    "    REPLACE_NO_SPACE = re.compile(\"[.`;:!\\'?,\\\"()\\[\\]،؛ًٌٍَُِّ]\")\n",
    "    REPLACE_NUMBER_ENGLISH = re.compile(\"[0-9A_Za-z۰-۹]\")\n",
    "    clean_comments = []\n",
    "    comments = [REPLACE_NO_SPACE.sub(\"\", line) for line in comments]\n",
    "    comments = [REPLACE_NUMBER_ENGLISH.sub(\"\", line) for line in comments]\n",
    "    for review in comments:\n",
    "        clean_comments.append(\n",
    "            ' '.join([word for word in review.split() \n",
    "                      if word not in stop_words])\n",
    "        )\n",
    "    return clean_comments"
   ]
  },
  {
   "cell_type": "code",
   "execution_count": 195,
   "id": "5dcedef9",
   "metadata": {},
   "outputs": [],
   "source": [
    "def tokenize_text(text):\n",
    "    text = normalizer.normalize(text)\n",
    "    text = text.replace('.', ' ')\n",
    "    text = re.sub('\\s+', ' ', text).strip()\n",
    "    text = text.replace('\\u200c', ' ').replace('\\n', '').replace('\\r', '').replace('ي', 'ی').replace('ك', 'ک')\n",
    "    tokens = word_tokenize(text)\n",
    "    return tokens"
   ]
  },
  {
   "cell_type": "code",
   "execution_count": 196,
   "id": "3a5e0fa0",
   "metadata": {},
   "outputs": [],
   "source": [
    "def create_word_set(comments):\n",
    "    word_set = set()\n",
    "    for comment in comments:\n",
    "        for token in comment:\n",
    "            word_set.add(token)\n",
    "    return word_set"
   ]
  },
  {
   "cell_type": "code",
   "execution_count": 197,
   "id": "4bad60a3",
   "metadata": {},
   "outputs": [],
   "source": [
    "def preprocessing(comment):\n",
    "    stop_words = ['و', 'در', 'به', 'از', 'که', 'این', 'را', 'با', 'است', 'برای', 'آن', 'یک', 'خود', 'تا', 'کرد', 'بر', 'هم', 'نیز', 'گفت', 'می\\u200cشود', 'وی', 'شد', 'دارد', 'ما', 'اما', 'یا', 'شده', 'باید', 'هر', 'آنها', 'بود', 'او', 'دیگر', 'دو', 'مورد', 'می\\u200cکند', 'شود', 'کند', 'وجود', 'بین', 'پیش', 'شده_است', 'پس', 'نظر', 'اگر', 'همه', 'یکی', 'حال', 'هستند', 'من', 'کنند', 'نیست', 'باشد', 'چه', 'بی', 'می', 'بخش', 'می\\u200cکنند', 'همین', 'افزود', 'هایی', 'دارند', 'راه', 'همچنین', 'روی', 'داد', 'سه', 'داشت', 'چند', 'سوی', 'تنها', 'هیچ', 'میان', 'اینکه', 'شدن', 'بعد', 'جدید', 'ولی', 'حتی', 'کردن', 'برخی', 'کردند', 'می\\u200cدهد', 'اول', 'نه', 'کرده_است', 'نسبت', 'بیش', 'شما', 'چنین', 'طور', 'افراد', 'تمام', 'درباره', 'بار', 'بسیاری', 'می\\u200cتواند', 'کرده', 'چون', 'ندارد', 'دوم', 'بزرگ', 'طی', 'حدود', 'همان', 'بدون', 'البته', 'آنان', 'می\\u200cگوید', 'دیگری', 'خواهد_شد', 'کنیم', 'قابل', 'یعنی', 'رشد', 'می\\u200cتوان', 'وارد', 'کل', 'ویژه', 'قبل', 'براساس', 'نیاز', 'گذاری', 'هنوز', 'لازم', 'سازی', 'بوده_است', 'چرا', 'می\\u200cشوند', 'وقتی', 'گرفت', 'کم', 'جای', 'حالی', 'تغییر', 'پیدا', 'اکنون', 'تحت', 'باعث', 'مدت', 'فقط', 'تعداد', 'آیا', 'بیان', 'رو', 'شدند', 'عدم', 'کرده_اند', 'بودن', 'نوع', 'بلکه', 'جاری', 'دهد', 'برابر', 'مهم', 'بوده', 'اخیر', 'مربوط', 'امر', 'زیر', 'گیری', 'شاید', 'خصوص', 'آقای', 'اثر', 'کننده', 'بودند', 'فکر', 'کنار', 'اولین', 'سوم', 'سایر', 'کنید', 'ضمن', 'مانند', 'باز', 'می\\u200cگیرد', 'ممکن', 'حل', 'دارای', 'پی', 'مثل', 'می\\u200cرسد', 'اجرا', 'دور', 'منظور', 'کسی', 'موجب', 'طول', 'امکان', 'آنچه', 'تعیین', 'گفته', 'شوند', 'جمع', 'علاوه', 'گونه', 'تاکنون', 'رسید', 'ساله', 'گرفته', 'شده_اند', 'علت', 'چهار', 'داشته_باشد', 'خواهد_بود', 'طرف', 'تهیه', 'تبدیل', 'مناسب', 'زیرا', 'مشخص', 'می\\u200cتوانند', 'نزدیک', 'جریان', 'روند', 'بنابراین', 'می\\u200cدهند', 'یافت', 'نخستین', 'بالا', 'پنج', 'ریزی', 'چیزی', 'نخست', 'بیشتری', 'ترتیب', 'شده_بود', 'خاص', 'شروع', 'فرد', 'کامل', 'غیر', 'می\\u200cرود', 'دهند', 'آخرین', 'دادن', 'جدی', 'بهترین', 'شامل', 'گیرد', 'بخشی', 'باشند', 'تمامی', 'بهتر', 'داده_است', 'حد', 'نبود', 'کسانی', 'می\\u200cکرد', 'داریم', 'علیه', 'می\\u200cباشد', 'دانست', 'ناشی', 'داشتند', 'دهه', 'می\\u200cشد', 'ایشان', 'آنجا', 'گرفته_است', 'دچار', 'می\\u200cآید', 'لحاظ', 'آنکه', 'داده', 'بعضی', 'هستیم', 'اند', 'برداری', 'نباید', 'می\\u200cکنیم', 'نشست', 'سهم', 'همیشه', 'آمد', 'اش', 'وگو', 'می\\u200cکنم', 'حداقل', 'طبق', 'جا', 'خواهد_کرد', 'نوعی', 'چگونه', 'رفت', 'هنگام', 'فوق', 'روش', 'ندارند', 'سعی', 'بندی', 'شمار', 'کلی', 'کافی', 'مواجه', 'همچنان', 'سمت', 'کوچک', 'داشته_است', 'چیز', 'پشت', 'آورد', 'حالا', 'روبه', 'سال\\u200cهای', 'دادند', 'می\\u200cکردند', 'عهده', 'نیمه', 'جایی', 'دیگران', 'سی', 'بروز', 'یکدیگر', 'آمده_است', 'جز', 'کنم', 'سپس', 'کنندگان', 'خودش', 'همواره', 'یافته', 'شان', 'صرف', 'نمی\\u200cشود', 'رسیدن', 'چهارم', 'یابد', 'متر', 'ساز', 'داشته', 'کرده_بود', 'باره', 'نحوه', 'کردم', 'تو', 'شخصی', 'داشته_باشند', 'محسوب', 'پخش', 'کمی', 'متفاوت', 'سراسر', 'کاملا', 'داشتن', 'نظیر', 'آمده', 'گروهی', 'فردی', 'ع', 'همچون', 'خطر', 'خویش', 'کدام', 'دسته', 'سبب', 'عین', 'آوری', 'متاسفانه', 'بیرون', 'دار', 'ابتدا', 'شش', 'افرادی', 'می\\u200cگویند', 'سالهای', 'درون', 'نیستند', 'یافته_است', 'پر', 'خاطرنشان', 'گاه', 'جمعی', 'اغلب', 'دوباره', 'می\\u200cیابد', 'لذا', 'زاده', 'گردد', 'اینجا']\n",
    "    REPLACE_NO_SPACE = re.compile(\"[.`;:!\\'?,\\\"()\\[\\]،؛ًٌٍَُِّ]\")\n",
    "    REPLACE_NUMBER_ENGLISH = re.compile(\"[0-9A_Za-z۰-۹]\")\n",
    "    comment = [REPLACE_NO_SPACE.sub(\"\", line) for line in comment]\n",
    "    comment = [REPLACE_NUMBER_ENGLISH.sub(\"\", line) for line in comment]\n",
    "    comment = ''.join(c for c in comment if not c.isdigit())\n",
    "    comment = ''.join(c for c in comment if c not in punctuation)\n",
    "    comment = normalizer.normalize(comment)\n",
    "    tokens = word_tokenize(comment)\n",
    "    cleared_text = []\n",
    "    for word in tokens:\n",
    "        word = normalizer.normalize(word)\n",
    "        word = lemmatizer.lemmatize(word)\n",
    "        if word not in stop_words and len(word) > 1:\n",
    "            cleared_text.append(word)\n",
    "    return cleared_text"
   ]
  },
  {
   "cell_type": "code",
   "execution_count": 198,
   "id": "7c15d593",
   "metadata": {},
   "outputs": [],
   "source": [
    "X=dataset.iloc[:, :-1].values\n",
    "y=dataset.iloc[:, -1]"
   ]
  },
  {
   "cell_type": "code",
   "execution_count": 199,
   "id": "a4f99bda",
   "metadata": {},
   "outputs": [],
   "source": [
    "tokens=[]\n",
    "for i in range(len(X)):\n",
    "    tokens.append(preprocessing((X[i])))"
   ]
  },
  {
   "cell_type": "code",
   "execution_count": 200,
   "id": "3524e384",
   "metadata": {},
   "outputs": [],
   "source": [
    "def DF(tokens):\n",
    "    word_counts = Counter(word for feature in tokens for word in set(feature))\n",
    "    total_comments = len(tokens)\n",
    "    upper_threshold = total_comments * 0.8\n",
    "    lower_threshold = total_comments * 0.001\n",
    "    pruned_tokens_features = []\n",
    "    for feature in tokens:\n",
    "        pruned_feature = [word for word in feature if word_counts[word] < upper_threshold and word_counts[word] >= lower_threshold]\n",
    "        pruned_tokens_features.append(pruned_feature)\n",
    "    return pruned_tokens_features"
   ]
  },
  {
   "cell_type": "code",
   "execution_count": 201,
   "id": "517078fb",
   "metadata": {},
   "outputs": [],
   "source": [
    "temp=DF(tokens)"
   ]
  },
  {
   "cell_type": "code",
   "execution_count": 202,
   "id": "f20b5072",
   "metadata": {},
   "outputs": [],
   "source": [
    "tokens=temp"
   ]
  },
  {
   "cell_type": "code",
   "execution_count": 203,
   "id": "8fb2c80f",
   "metadata": {},
   "outputs": [],
   "source": [
    "def cal_Tf_Idf(tokens):\n",
    "    tf = []\n",
    "    for doc in tokens:\n",
    "        doc_tf = {}\n",
    "        for word in doc:\n",
    "            doc_tf[word] = doc.count(word) / len(doc)\n",
    "        tf.append(doc_tf)\n",
    "    idf = {}\n",
    "    for doc in tokens:\n",
    "        for word in set(doc):\n",
    "            if word in idf:\n",
    "                idf[word] += 1\n",
    "            else:\n",
    "                idf[word] = 1\n",
    "    num_docs = len(tokens)\n",
    "    for word in idf:\n",
    "        idf[word] = math.log((1 + num_docs) / (1 + idf[word])) + 1\n",
    "    tfidf = []\n",
    "    for doc in tf:\n",
    "        doc_tfidf = {}\n",
    "        for word in doc:\n",
    "            doc_tfidf[word] = doc[word] * idf[word]\n",
    "        tfidf.append(doc_tfidf)\n",
    "    # Normalize the TF-IDF score for each word in each document\n",
    "    for i in range(len(tfidf)):\n",
    "        tfidf_values = list(tfidf[i].values())\n",
    "        norm = math.sqrt(sum(x**2 for x in tfidf_values))\n",
    "        for word in tfidf[i]:\n",
    "            tfidf[i][word] /= norm  \n",
    "    vocab = sorted(set(word for doc in tokens for word in doc))\n",
    "    matrix = [[doc.get(word, 0) for word in vocab] for doc in tfidf]\n",
    "    matrix = np.array(matrix)\n",
    "    return matrix"
   ]
  },
  {
   "cell_type": "code",
   "execution_count": 204,
   "id": "1c6a8fda",
   "metadata": {},
   "outputs": [],
   "source": [
    "matrix=cal_Tf_Idf(tokens)"
   ]
  },
  {
   "cell_type": "code",
   "execution_count": 205,
   "id": "8217fb7b",
   "metadata": {},
   "outputs": [
    {
     "data": {
      "text/plain": [
       "(62820, 1782)"
      ]
     },
     "execution_count": 205,
     "metadata": {},
     "output_type": "execute_result"
    }
   ],
   "source": [
    "matrix.shape"
   ]
  },
  {
   "cell_type": "code",
   "execution_count": 206,
   "id": "a327093f",
   "metadata": {},
   "outputs": [],
   "source": [
    "from sklearn.feature_selection import SelectKBest, chi2\n",
    "X_new = SelectKBest(chi2, k=300).fit_transform(matrix,y)"
   ]
  },
  {
   "cell_type": "code",
   "execution_count": 207,
   "id": "8894ae61",
   "metadata": {},
   "outputs": [],
   "source": [
    "from sklearn.linear_model import LogisticRegression\n",
    "from sklearn.metrics import accuracy_score\n",
    "from sklearn.datasets import load_iris\n",
    "from sklearn.model_selection import train_test_split\n",
    "from sklearn.preprocessing import StandardScaler\n",
    "\n",
    "X_train, X_test, y_train, y_test = train_test_split(X_new,y, test_size=0.2, random_state=42)"
   ]
  },
  {
   "cell_type": "code",
   "execution_count": 209,
   "id": "c476a00b",
   "metadata": {},
   "outputs": [
    {
     "name": "stdout",
     "output_type": "stream",
     "text": [
      "accuracy : 79.21\n"
     ]
    }
   ],
   "source": [
    "model = LogisticRegression(multi_class='multinomial', solver='lbfgs', max_iter=250)\n",
    "model.fit(X_train, y_train)\n",
    "y_pred = model.predict(X_test)\n",
    "accuracy = accuracy_score(y_test, y_pred)\n",
    "print(\"accuracy :\",round( accuracy* 100, 2))"
   ]
  },
  {
   "cell_type": "code",
   "execution_count": 210,
   "id": "6b5c0b3d",
   "metadata": {},
   "outputs": [
    {
     "data": {
      "text/plain": [
       "array([[2419,   17,  913],\n",
       "       [ 329,   40,  776],\n",
       "       [ 542,   35, 7493]], dtype=int64)"
      ]
     },
     "execution_count": 210,
     "metadata": {},
     "output_type": "execute_result"
    }
   ],
   "source": [
    "from sklearn.metrics import confusion_matrix\n",
    "confusion_matrix(y_test, y_pred)"
   ]
  },
  {
   "cell_type": "code",
   "execution_count": 211,
   "id": "45ff6dbc",
   "metadata": {},
   "outputs": [
    {
     "name": "stdout",
     "output_type": "stream",
     "text": [
      "accuracy : 75.25\n"
     ]
    }
   ],
   "source": [
    "from sklearn.naive_bayes import MultinomialNB\n",
    "clf = MultinomialNB()\n",
    "clf.fit(X_train, y_train)\n",
    "\n",
    "# Test the classifier\n",
    "accuracy = clf.score(X_test, y_test)\n",
    "print(\"accuracy :\",round( accuracy* 100, 2))"
   ]
  },
  {
   "cell_type": "code",
   "execution_count": 212,
   "id": "f10f5e6c",
   "metadata": {},
   "outputs": [
    {
     "data": {
      "text/plain": [
       "array([[2419,   17,  913],\n",
       "       [ 329,   40,  776],\n",
       "       [ 542,   35, 7493]], dtype=int64)"
      ]
     },
     "execution_count": 212,
     "metadata": {},
     "output_type": "execute_result"
    }
   ],
   "source": [
    "from sklearn.metrics import confusion_matrix\n",
    "confusion_matrix(y_test, y_pred)"
   ]
  },
  {
   "cell_type": "code",
   "execution_count": 213,
   "id": "80d3f89e",
   "metadata": {},
   "outputs": [
    {
     "name": "stdout",
     "output_type": "stream",
     "text": [
      "accuracy : 78.88\n"
     ]
    }
   ],
   "source": [
    "from sklearn import svm\n",
    "clf = svm.SVC(kernel='linear', decision_function_shape='ovr') # OVR stands for One-vs-Rest\n",
    "clf.fit(X_train, y_train)\n",
    "y_pred = clf.predict(X_test)\n",
    "accuracy = accuracy_score(y_test, y_pred)\n",
    "print(\"accuracy :\",round( accuracy* 100, 2))"
   ]
  },
  {
   "cell_type": "code",
   "execution_count": 214,
   "id": "e2f0d017",
   "metadata": {},
   "outputs": [
    {
     "data": {
      "text/plain": [
       "array([[2347,    1, 1001],\n",
       "       [ 315,    5,  825],\n",
       "       [ 507,    4, 7559]], dtype=int64)"
      ]
     },
     "execution_count": 214,
     "metadata": {},
     "output_type": "execute_result"
    }
   ],
   "source": [
    "from sklearn.metrics import confusion_matrix\n",
    "confusion_matrix(y_test, y_pred)"
   ]
  },
  {
   "cell_type": "code",
   "execution_count": 58,
   "id": "13b5feb1",
   "metadata": {},
   "outputs": [
    {
     "data": {
      "text/plain": [
       "1760"
      ]
     },
     "execution_count": 58,
     "metadata": {},
     "output_type": "execute_result"
    }
   ],
   "source": [
    "a=create_word_set(temp)\n",
    "len(a)"
   ]
  },
  {
   "cell_type": "code",
   "execution_count": 32,
   "id": "9d8d6212",
   "metadata": {},
   "outputs": [],
   "source": [
    "# Helpers\n",
    "def normalize(X):\n",
    "    NX = pd.DataFrame(columns=X.columns.values)\n",
    "    for column in NX.columns:\n",
    "        X_max = X[column].max()\n",
    "        X_min = X[column].min()\n",
    "        X_range = X_max - X_min\n",
    "        if X_range != 0:\n",
    "            NX[column] = (X[column] - X_min) / X_range\n",
    "        else:\n",
    "            NX[column] = X[column] / X_max\n",
    "    return NX\n",
    "\n",
    "\n",
    "def calc_accuracy(y, yh):\n",
    "    m_sample = len(y)\n",
    "    correct = 0\n",
    "    for i in range(m_sample):\n",
    "        if yh[i] == y[i]:\n",
    "            correct += 1\n",
    "    acc = correct / m_sample\n",
    "    return acc"
   ]
  },
  {
   "cell_type": "code",
   "execution_count": 33,
   "id": "5c9fb56f",
   "metadata": {},
   "outputs": [],
   "source": [
    "# Logistic Regression Functions\n",
    "def open_logistic():\n",
    "    logistic_data = pd.read_csv('./dataset/seed.txt', sep='\\t', names=['X1', 'X2', 'X3', 'X4', 'X5', 'X6', 'X7', 'y'])\n",
    "    return logistic_data\n",
    "\n",
    "\n",
    "def sigmoid(z):\n",
    "    h = 1 / (1 + np.exp(-z))\n",
    "    return h\n",
    "\n",
    "\n",
    "def logistic_prediction(X, theta, threshold=0.5, norm=False):\n",
    "    z = np.dot(X, theta.T)\n",
    "    h = sigmoid(z)\n",
    "    if not norm:\n",
    "        return h\n",
    "    else:\n",
    "        if threshold == 0.5:\n",
    "            yh = np.array([1 if label >= threshold else 0 for label in h]).reshape(-1, 1)\n",
    "        else:\n",
    "            yh = np.array([1 if label >= threshold else 0 for label in h]).reshape(-1, 1)\n",
    "        return yh\n",
    "\n",
    "\n",
    "def logistic_gradient(X, y, alpha, n_iter):\n",
    "    m_sample, n_feature = X.shape\n",
    "    theta = np.random.rand(n_feature).reshape(-1, n_feature)\n",
    "    iter_cost = []\n",
    "    for i in range(n_iter):\n",
    "        pred = logistic_prediction(X, theta)\n",
    "        change = []\n",
    "        for j in range(n_feature):\n",
    "            change.append((np.dot(X[:, j], (pred - y))) / m_sample)\n",
    "            theta[0][j] = theta[0][j] - alpha * change[j]\n",
    "        cost = abs(sum(change))\n",
    "        iter_cost.append(cost)\n",
    "    return theta[0], np.array(iter_cost)\n",
    "\n",
    "\n",
    "def calc_cross_entropy(X, y, theta):\n",
    "    m_sample = X.shape[0]\n",
    "    ones = np.ones(m_sample)\n",
    "    h = logistic_prediction(X, theta)\n",
    "    ce = -(np.dot(y.T, np.log(h)) + np.dot((ones - y).T, np.log(ones - h))) / m_sample\n",
    "    return ce[0]"
   ]
  },
  {
   "cell_type": "code",
   "execution_count": 34,
   "id": "b6dda1a6",
   "metadata": {
    "collapsed": true
   },
   "outputs": [
    {
     "name": "stdout",
     "output_type": "stream",
     "text": [
      "0\n",
      "100\n",
      "200\n",
      "300\n",
      "400\n",
      "500\n",
      "600\n",
      "700\n",
      "800\n",
      "900\n",
      "1000\n",
      "1100\n",
      "1200\n",
      "1300\n",
      "1400\n",
      "1500\n",
      "1600\n",
      "1700\n"
     ]
    },
    {
     "ename": "KeyboardInterrupt",
     "evalue": "",
     "output_type": "error",
     "traceback": [
      "\u001b[1;31m---------------------------------------------------------------------------\u001b[0m",
      "\u001b[1;31mKeyboardInterrupt\u001b[0m                         Traceback (most recent call last)",
      "Cell \u001b[1;32mIn[34], line 21\u001b[0m\n\u001b[0;32m     18\u001b[0m X_train_2v3, X_test_2v3, y_train_2v3, y_test_2v3 \u001b[38;5;241m=\u001b[39m train_test_split(X_2v3, y_2v3, test_size\u001b[38;5;241m=\u001b[39m\u001b[38;5;241m0.2\u001b[39m, random_state\u001b[38;5;241m=\u001b[39m\u001b[38;5;241m42\u001b[39m)\n\u001b[0;32m     20\u001b[0m \u001b[38;5;66;03m# Train Phase Of 1 VS 2\u001b[39;00m\n\u001b[1;32m---> 21\u001b[0m theta_1v2, cost_1v2 \u001b[38;5;241m=\u001b[39m \u001b[43mlogistic_gradient\u001b[49m\u001b[43m(\u001b[49m\u001b[43mX_train_1v2\u001b[49m\u001b[43m,\u001b[49m\u001b[43m \u001b[49m\u001b[43my_train_1v2\u001b[49m\u001b[43m,\u001b[49m\u001b[43m \u001b[49m\u001b[38;5;241;43m0.1\u001b[39;49m\u001b[43m,\u001b[49m\u001b[43m \u001b[49m\u001b[38;5;241;43m10000\u001b[39;49m\u001b[43m)\u001b[49m\n\u001b[0;32m     23\u001b[0m \u001b[38;5;66;03m# Test Phase Of 1 VS 2\u001b[39;00m\n\u001b[0;32m     24\u001b[0m yh_train_1v2 \u001b[38;5;241m=\u001b[39m logistic_prediction(X_train_1v2, theta_1v2, norm\u001b[38;5;241m=\u001b[39m\u001b[38;5;28;01mTrue\u001b[39;00m)\n",
      "Cell \u001b[1;32mIn[33], line 35\u001b[0m, in \u001b[0;36mlogistic_gradient\u001b[1;34m(X, y, alpha, n_iter)\u001b[0m\n\u001b[0;32m     33\u001b[0m change \u001b[38;5;241m=\u001b[39m []\n\u001b[0;32m     34\u001b[0m \u001b[38;5;28;01mfor\u001b[39;00m j \u001b[38;5;129;01min\u001b[39;00m \u001b[38;5;28mrange\u001b[39m(n_feature):\n\u001b[1;32m---> 35\u001b[0m     change\u001b[38;5;241m.\u001b[39mappend((\u001b[43mnp\u001b[49m\u001b[38;5;241;43m.\u001b[39;49m\u001b[43mdot\u001b[49m\u001b[43m(\u001b[49m\u001b[43mX\u001b[49m\u001b[43m[\u001b[49m\u001b[43m:\u001b[49m\u001b[43m,\u001b[49m\u001b[43m \u001b[49m\u001b[43mj\u001b[49m\u001b[43m]\u001b[49m\u001b[43m,\u001b[49m\u001b[43m \u001b[49m\u001b[43m(\u001b[49m\u001b[43mpred\u001b[49m\u001b[43m \u001b[49m\u001b[38;5;241;43m-\u001b[39;49m\u001b[43m \u001b[49m\u001b[43my\u001b[49m\u001b[43m)\u001b[49m\u001b[43m)\u001b[49m) \u001b[38;5;241m/\u001b[39m m_sample)\n\u001b[0;32m     36\u001b[0m     theta[\u001b[38;5;241m0\u001b[39m][j] \u001b[38;5;241m=\u001b[39m theta[\u001b[38;5;241m0\u001b[39m][j] \u001b[38;5;241m-\u001b[39m alpha \u001b[38;5;241m*\u001b[39m change[j]\n\u001b[0;32m     37\u001b[0m cost \u001b[38;5;241m=\u001b[39m \u001b[38;5;28mabs\u001b[39m(\u001b[38;5;28msum\u001b[39m(change))\n",
      "File \u001b[1;32m<__array_function__ internals>:180\u001b[0m, in \u001b[0;36mdot\u001b[1;34m(*args, **kwargs)\u001b[0m\n",
      "\u001b[1;31mKeyboardInterrupt\u001b[0m: "
     ]
    }
   ],
   "source": [
    "# Logistic Regression In Action\n",
    "from sklearn.model_selection import train_test_split\n",
    "\n",
    "# Preparing Data\n",
    "X_1v2 = X_new[np.where(y != 3)]\n",
    "X_1v3 = X_new[np.where(y != 2)]\n",
    "X_2v3 = X_new[np.where(y != 1)]\n",
    "\n",
    "y_1v2 = y[y != 3]\n",
    "y_1v3 = y[y != 2]\n",
    "y_2v3 = y[y != 1]\n",
    "\n",
    "y_1v2 = np.array([0 if y == 1 else 1 for y in y_1v2]).reshape(-1, 1)\n",
    "y_1v3 = np.array([0 if y == 1 else 1 for y in y_1v3]).reshape(-1, 1)\n",
    "y_2v3 = np.array([0 if y == 2 else 1 for y in y_2v3]).reshape(-1, 1)\n",
    "\n",
    "X_train_1v2, X_test_1v2, y_train_1v2, y_test_1v2 = train_test_split(X_1v2, y_1v2, test_size=0.2, random_state=42)\n",
    "X_train_1v3, X_test_1v3, y_train_1v3, y_test_1v3 = train_test_split(X_1v3, y_1v3, test_size=0.2, random_state=42)\n",
    "X_train_2v3, X_test_2v3, y_train_2v3, y_test_2v3 = train_test_split(X_2v3, y_2v3, test_size=0.2, random_state=42)\n",
    "\n",
    "# Train Phase Of 1 VS 2\n",
    "theta_1v2, cost_1v2 = logistic_gradient(X_train_1v2, y_train_1v2, 0.1, 10000)\n",
    "\n",
    "# Test Phase Of 1 VS 2\n",
    "yh_train_1v2 = logistic_prediction(X_train_1v2, theta_1v2, norm=True)\n",
    "yh_test_1v2 = logistic_prediction(X_test_1v2, theta_1v2, norm=True)\n",
    "\n",
    "train_ce_1v2 = calc_cross_entropy(X_train_1v2, y_train_1v2, theta_1v2)\n",
    "test_ce_1v2 = calc_cross_entropy(X_test_1v2, y_test_1v2, theta_1v2)\n",
    "\n",
    "train_acc_1v2 = calc_accuracy(y_train_1v2, yh_train_1v2)\n",
    "test_acc_1v2 = calc_accuracy(y_test_1v2, yh_test_1v2)\n",
    "\n",
    "# Results For 1 VS 2\n",
    "print('1 VS 2:')\n",
    "print(f'Train Cross Entropy: {train_ce_1v2.round(2)} | Test Cross Entropy: {test_ce_1v2.round(2)}')\n",
    "print(f'Train Accuracy: {round(train_acc_1v2 * 100, 2)} | Test Accuracy: {round(test_acc_1v2 * 100, 2)}\\n')\n",
    "\n",
    "# Train Phase Of 1 VS 3\n",
    "theta_1v3, cost_1v3 = logistic_gradient(X_train_1v3, y_train_1v3, 0.1, 10000)\n",
    "\n",
    "# Test Phase Of 1 VS 3\n",
    "yh_train_1v3 = logistic_prediction(X_train_1v3, theta_1v3, norm=True)\n",
    "yh_test_1v3 = logistic_prediction(X_test_1v3, theta_1v3, norm=True)\n",
    "\n",
    "train_ce_1v3 = calc_cross_entropy(X_train_1v3, y_train_1v3, theta_1v3)\n",
    "test_ce_1v3 = calc_cross_entropy(X_test_1v3, y_test_1v3, theta_1v3)\n",
    "\n",
    "train_acc_1v3 = calc_accuracy(y_train_1v3, yh_train_1v3)\n",
    "test_acc_1v3 = calc_accuracy(y_test_1v3, yh_test_1v3)\n",
    "\n",
    "# Results For 1 VS 3\n",
    "print('1 VS 3:')\n",
    "print(f'Train Cross Entropy: {train_ce_1v3.round(2)} | Test Cross Entropy: {test_ce_1v3.round(2)}')\n",
    "print(f'Train Accuracy: {round(train_acc_1v3 * 100, 2)} | Test Accuracy: {round(test_acc_1v3 * 100, 2)}\\n')\n",
    "\n",
    "# Train Phase Of 2 VS 3\n",
    "theta_2v3, cost_2v3 = logistic_gradient(X_train_2v3, y_train_2v3, 0.1, 10000)\n",
    "\n",
    "# Test Phase Of 2 VS 3\n",
    "yh_train_2v3 = logistic_prediction(X_train_2v3, theta_2v3, norm=True)\n",
    "yh_test_2v3 = logistic_prediction(X_test_2v3, theta_2v3, norm=True)\n",
    "\n",
    "train_ce_2v3 = calc_cross_entropy(X_train_2v3, y_train_2v3, theta_2v3)\n",
    "test_ce_2v3 = calc_cross_entropy(X_test_2v3, y_test_2v3, theta_2v3)\n",
    "\n",
    "train_acc_2v3 = calc_accuracy(y_train_2v3, yh_train_2v3)\n",
    "test_acc_2v3 = calc_accuracy(y_test_2v3, yh_test_2v3)\n",
    "\n",
    "# Results For 2 VS 3\n",
    "print('2 VS 3:')\n",
    "print(f'Train Cross Entropy: {train_ce_2v3.round(2)} | Test Cross Entropy: {test_ce_2v3.round(2)}')\n",
    "print(f'Train Accuracy: {round(train_acc_2v3 * 100, 2)} | Test Accuracy: {round(test_acc_2v3 * 100, 2)}\\n')"
   ]
  },
  {
   "cell_type": "code",
   "execution_count": 53,
   "id": "92a73ddc",
   "metadata": {},
   "outputs": [],
   "source": [
    "# Softmax Functions\n",
    "def one_hot_encode(y):\n",
    "    m_sample = len(y)\n",
    "    classes = np.unique(y)\n",
    "    c_class = len(classes)\n",
    "    one_hot = np.zeros((m_sample, c_class), int)\n",
    "    for i in range(m_sample):\n",
    "        for j, c in enumerate(classes):\n",
    "            if y[i] == c:\n",
    "                one_hot[i][j] = 1\n",
    "    return one_hot\n",
    "\n",
    "\n",
    "def softmax_prediction(X, theta, norm=False):\n",
    "    z = np.dot(X, theta)\n",
    "    h = np.exp(z - np.max(z, axis=1, keepdims=True))\n",
    "    yh = h / np.sum(h, axis=1, keepdims=True)\n",
    "    if not norm:\n",
    "        return yh\n",
    "    else:\n",
    "        return np.argmax(yh, axis=1, keepdims=True) + 1\n",
    "\n",
    "\n",
    "def softmax_gradient(X, y, alpha, n_iter):\n",
    "    m_sample, n_feature = X.shape\n",
    "    c_class = len(np.unique(y))\n",
    "    theta = np.random.rand(n_feature, c_class)\n",
    "    one_hot = one_hot_encode(np.array(y))\n",
    "    iter_cost = []\n",
    "    for i in range(n_iter):\n",
    "        pred = softmax_prediction(X, theta)\n",
    "        change = np.dot(X.T, (pred - one_hot))\n",
    "        theta = theta - alpha * np.array(change)\n",
    "        cost = 0\n",
    "        for c in range(c_class):\n",
    "            cost += np.sum(one_hot[:, c] * np.log10(pred[:, c]))\n",
    "        cost = -cost / m_sample\n",
    "        iter_cost.append(cost)\n",
    "    return theta, iter_cost[-1].round(2)"
   ]
  },
  {
   "cell_type": "code",
   "execution_count": 56,
   "id": "a78694aa",
   "metadata": {
    "collapsed": true
   },
   "outputs": [
    {
     "data": {
      "image/png": "[encoded data removed]",
      "text/plain": [
       "<Figure size 800x600 with 1 Axes>"
      ]
     },
     "metadata": {},
     "output_type": "display_data"
    },
    {
     "name": "stdout",
     "output_type": "stream",
     "text": [
      "Softmax Regression Result:\n",
      "Cross Entropy: 0.23\n",
      "Train Accuracy: 78.98 | Test Accuracy: 78.41\n",
      "\n"
     ]
    }
   ],
   "source": [
    "# Softmax In Action\n",
    "from sklearn.model_selection import train_test_split\n",
    "\n",
    "X_train, X_test, y_train, y_test = train_test_split(X_new, y, test_size=0.2, random_state=42)\n",
    "\n",
    "class_theta, cross_entropy = softmax_gradient(X_train, y_train, 0.01, 100)\n",
    "\n",
    "yh_train = softmax_prediction(X_train, class_theta, True)\n",
    "yh_test = softmax_prediction(X_test, class_theta, True)\n",
    "\n",
    "acc_train = calc_accuracy(np.array(y_train).reshape(-1, 1), yh_train)\n",
    "acc_test = calc_accuracy(np.array(y_test).reshape(-1, 1), yh_test)\n",
    "\n",
    "print('Softmax Regression Result:')\n",
    "print(f'Cross Entropy: {cross_entropy}')\n",
    "print(f'Train Accuracy: {round(acc_train * 100, 2)} | Test Accuracy: {round(acc_test * 100, 2)}\\n')"
   ]
  },
  {
   "cell_type": "code",
   "execution_count": 108,
   "id": "4f3d4efa",
   "metadata": {},
   "outputs": [],
   "source": [
    "# Naive Bayes Functions\n",
    "def class_probability(label):\n",
    "    m_sample = len(label)\n",
    "    _, count = np.unique(label, return_counts=True)\n",
    "    class_prob = count / m_sample\n",
    "#     for i in range(len(class_prob)):\n",
    "#         class_prob[i] = - math.log(class_prob[i], 0.5)\n",
    "    return class_prob\n",
    "\n",
    "\n",
    "def index_probability(data, label):\n",
    "    unique, count = np.unique(label, return_counts=True)\n",
    "    c_class = len(unique)\n",
    "    m_sample = len(label)\n",
    "    n_feature = 28 * 28\n",
    "    index_prob = np.zeros((n_feature, c_class, 2))\n",
    "    for m in range(m_sample):\n",
    "        for i in range(300):\n",
    "            if data[m][i] == 0:\n",
    "                index_prob[i][label[m]][0] += 1\n",
    "            elif data[m][i] != 0:\n",
    "                index_prob[i][label[m]][1] += 1\n",
    "    for n in range(n_feature):\n",
    "        for c in range(c_class):\n",
    "            for v in range(2):\n",
    "                index_prob[n][c][v] = (index_prob[n][c][v]) / (count[c])\n",
    "    return index_prob\n",
    "\n",
    "\n",
    "def naive_bayes_prediction(data, c_prob, i_prob):\n",
    "    c_class = len(c_prob)\n",
    "    m_sample = len(data)\n",
    "    data_pred = np.zeros((m_sample, 1), int)\n",
    "    for i, d in enumerate(data):\n",
    "        pred_arr = c_prob.copy()\n",
    "        for j in range(300):\n",
    "            for m in range(c_class):\n",
    "                if d[j] == 0:\n",
    "                    pred_arr[m] *= i_prob[j][m][0]\n",
    "                elif d[j] != 0:\n",
    "                    pred_arr[m] *= i_prob[j][m][1]\n",
    "        data_pred[i][0] = np.argmax(pred_arr)\n",
    "    return data_pred"
   ]
  },
  {
   "cell_type": "code",
   "execution_count": null,
   "id": "3da6f7c9",
   "metadata": {},
   "outputs": [],
   "source": [
    "# Naive Bayes In Action\n",
    "from sklearn.model_selection import train_test_split\n",
    "\n",
    "X_train, X_test, y_train, y_test = train_test_split(X_new, y, test_size=0.2, random_state=42)\n",
    "y_train = np.array(y_train.astype(int) - 1)\n",
    "y_test = np.array(y_test.astype(int) - 1)\n",
    "\n",
    "class_prob = class_probability(y_train)\n",
    "\n",
    "index_prob = index_probability(X_train.tolist(), np.array(y_train))\n",
    "\n",
    "data_pred = naive_bayes_prediction(X_test, binary_class_prob, index_prob)\n",
    "\n",
    "naive_bayes_acc = calc_accuracy(y_test.reshape(-1, 1), data_pred.reshape(-1, 1))\n",
    "\n",
    "print('Naive Bayes Accuracy With Features: ' + str(round(naive_bayes_acc * 100, 2)))"
   ]
  },
  {
   "cell_type": "code",
   "execution_count": 215,
   "id": "5eff03d6",
   "metadata": {},
   "outputs": [],
   "source": [
    "#svm\n",
    "\n",
    "def svm (X,Y,C):\n",
    "    learning_rate=0.01\n",
    "    _samples,_features = X.shape\n",
    "    w = np.zeros((1,_features))\n",
    "    b = 0\n",
    "    for i in range(600):\n",
    "        gradw = 0\n",
    "        gradb = 0\n",
    "        for idx, x_i in enumerate(X):\n",
    "            if Y[idx] * (np.dot(w, x_i.T) + b)> 1:\n",
    "                gradw += 0\n",
    "                gradb += 0\n",
    "            else:\n",
    "                gradw += C * Y[idx] * x_i\n",
    "                gradb += C * Y[idx]\n",
    "                \n",
    "        w = w - learning_rate * w + learning_rate * gradw\n",
    "        b = b + learning_rate * gradb\n",
    "\n",
    "    return w,b\n",
    "\n",
    "def predict(X,w,b):\n",
    "    prediction = np.dot(X,w[0]) + b \n",
    "    return np.sign(prediction)\n"
   ]
  },
  {
   "cell_type": "code",
   "execution_count": null,
   "id": "ef88c154",
   "metadata": {},
   "outputs": [],
   "source": [
    "from sklearn.model_selection import train_test_split\n",
    "\n",
    "# Preparing Data For One VS One Method\n",
    "X_1v2 = X_train[np.where(y_train != 3)]\n",
    "X_1v3 = X_train[np.where(y_train != 2)]\n",
    "X_2v3 = X_train[np.where(y_train != 1)]\n",
    "\n",
    "y_1v2 = y_train[y_train != 3]\n",
    "y_1v3 = y_train[y_train != 2]\n",
    "y_2v3 = y_train[y_train != 1]\n",
    "\n",
    "y_1v2 = np.array([-1 if y == 1 else 1 for y in y_1v2]).reshape(-1, 1)\n",
    "y_1v3 = np.array([-1 if y == 1 else 1 for y in y_1v3]).reshape(-1, 1)\n",
    "y_2v3 = np.array([-1 if y == 2 else 1 for y in y_2v3]).reshape(-1, 1)\n",
    "\n",
    "w1V2,b1v2=svm(X_1v2,y_1v2,100)\n",
    "w1V3,b1v3=svm(X_1v3,y_1v3,100)\n",
    "w2V3,b2v3=svm(X_2v3,y_2v3,100)\n",
    "y_pre1v2=predict(X_test,w1V2,b1v2)\n",
    "y_pre1v3=predict(X_test,w1V3,b1v3)\n",
    "y_pre2v3=predict(X_test,w2V3,b2v3)\n",
    "y_pre1v2=[1 if y == -1 else 2 for y in y_pre1v2]\n",
    "y_pre1v3=[1 if y == -1 else 3 for y in y_pre1v3]\n",
    "y_pre2v3=[2 if y == -1 else 3 for y in y_pre2v3]\n",
    "\n",
    "#Maximum majority \n",
    "y_pre=[]\n",
    "for y in range(len(y_pre1v2)):\n",
    "    temp=[]\n",
    "    temp.append(y_pre1v2[y])\n",
    "    temp.append(y_pre1v3[y])\n",
    "    temp.append(y_pre2v3[y])\n",
    "    label_1= temp.count(1)\n",
    "    label_2= temp.count(2)\n",
    "    label_3= temp.count(3)\n",
    "    if label_1==(max(label_1,label_2,label_3)):\n",
    "        y_pre.append(1)\n",
    "        continue\n",
    "    if label_2==(max(label_1,label_2,label_3)):\n",
    "        y_pre.append(2) \n",
    "        continue\n",
    "    if label_3==(max(label_1,label_2,label_3)):\n",
    "        y_pre.append(3) \n",
    "        continue\n",
    "        \n",
    "accuracy = accuracy_score(y_test, y_pre) \n",
    "print(\"accuracy\",round( accuracy* 100, 2))"
   ]
  },
  {
   "cell_type": "code",
   "execution_count": 183,
   "id": "cf6c8a81",
   "metadata": {},
   "outputs": [
    {
     "data": {
      "text/plain": [
       "array([[ 774,   13, 2562],\n",
       "       [  38,   20, 1087],\n",
       "       [  64,    5, 8001]], dtype=int64)"
      ]
     },
     "execution_count": 183,
     "metadata": {},
     "output_type": "execute_result"
    }
   ],
   "source": [
    "from sklearn.metrics import confusion_matrix\n",
    "confusion_matrix(y_test, y_pre)"
   ]
  },
  {
   "cell_type": "code",
   "execution_count": null,
   "id": "8c647a22",
   "metadata": {},
   "outputs": [],
   "source": []
  }
 ],
 "metadata": {
  "kernelspec": {
   "display_name": "Python 3 (ipykernel)",
   "language": "python",
   "name": "python3"
  },
  "language_info": {
   "codemirror_mode": {
    "name": "ipython",
    "version": 3
   },
   "file_extension": ".py",
   "mimetype": "text/x-python",
   "name": "python",
   "nbconvert_exporter": "python",
   "pygments_lexer": "ipython3",
   "version": "3.11.0"
  }
 },
 "nbformat": 4,
 "nbformat_minor": 5
}
